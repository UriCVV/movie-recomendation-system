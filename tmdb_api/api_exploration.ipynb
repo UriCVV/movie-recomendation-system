{
 "cells": [
  {
   "cell_type": "markdown",
   "metadata": {},
   "source": [
    "# API Wrapper Class or Module"
   ]
  },
  {
   "cell_type": "code",
   "execution_count": null,
   "metadata": {},
   "outputs": [],
   "source": [
    "import requests\n",
    "from dotenv import load_dotenv"
   ]
  },
  {
   "cell_type": "code",
   "execution_count": null,
   "metadata": {},
   "outputs": [],
   "source": [
    "import requests\n",
    "\n",
    "class TMDBApi:\n",
    "    def __init__(self, api_key):\n",
    "        self.api_key = api_key\n",
    "        self.base_url = \"https://api.themoviedb.org/3/\"\n",
    "\n",
    "    def _make_request(self, endpoint, params={}):\n",
    "        \"\"\" Make a request to a specific TMDB endpoint \"\"\"\n",
    "        params['api_key'] = self.api_key\n",
    "        response = requests.get(self.base_url + endpoint, params=params)\n",
    "        return response.json()\n",
    "\n",
    "    def search_movie(self, query):\n",
    "        \"\"\" Search for a movie \"\"\"\n",
    "        return self._make_request(\"search/movie\", {\"query\": query})\n",
    "\n",
    "    def get_movie_details(self, movie_id):\n",
    "        \"\"\" Get details of a specific movie \"\"\"\n",
    "        return self._make_request(f\"movie/{movie_id}\")\n",
    "\n",
    "# Usage\n",
    "api = TMDBApi('your_api_key_here')\n",
    "print(api.search_movie(\"Inception\"))\n"
   ]
  }
 ],
 "metadata": {
  "kernelspec": {
   "display_name": "flask",
   "language": "python",
   "name": "python3"
  },
  "language_info": {
   "codemirror_mode": {
    "name": "ipython",
    "version": 3
   },
   "file_extension": ".py",
   "mimetype": "text/x-python",
   "name": "python",
   "nbconvert_exporter": "python",
   "pygments_lexer": "ipython3",
   "version": "3.11.5"
  }
 },
 "nbformat": 4,
 "nbformat_minor": 2
}
